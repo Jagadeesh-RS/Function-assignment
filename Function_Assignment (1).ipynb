{
 "cells": [
  {
   "cell_type": "code",
   "execution_count": 19,
   "id": "af4d5002-0449-4322-bf0a-8f158033decc",
   "metadata": {},
   "outputs": [],
   "source": [
    "\"\"\"\n",
    "Q1. Which keyword is used to create a function? Create a function to return a list of odd numbers in the\n",
    "range of 1 to 25.\"\"\"\n",
    "\n",
    "#def is the keyword used to create a function\n",
    "\n",
    "def odd():\n",
    "    t=[]\n",
    "    for i in range(0,25):\n",
    "        if i%2!= 0:\n",
    "            t.append(i)\n",
    "    return t\n",
    "\n"
   ]
  },
  {
   "cell_type": "code",
   "execution_count": 20,
   "id": "a6ef1dd7-aec1-4717-8015-88941c45dbc7",
   "metadata": {},
   "outputs": [
    {
     "data": {
      "text/plain": [
       "[1, 3, 5, 7, 9, 11, 13, 15, 17, 19, 21, 23]"
      ]
     },
     "execution_count": 20,
     "metadata": {},
     "output_type": "execute_result"
    }
   ],
   "source": [
    "odd()"
   ]
  },
  {
   "cell_type": "code",
   "execution_count": 29,
   "id": "6a92166a-0c93-468a-b1d3-f099a23a4866",
   "metadata": {},
   "outputs": [
    {
     "data": {
      "text/plain": [
       "{'a': 1, 'b': 5}"
      ]
     },
     "execution_count": 29,
     "metadata": {},
     "output_type": "execute_result"
    }
   ],
   "source": [
    "\"\"\"\n",
    "Q2. Why *args and **kwargs is used in some functions? Create a function each for *args and **kwargs to\n",
    "demonstrate their use.\n",
    "\n",
    "def abc(*args)\n",
    "\n",
    "The *args  lets the user to assign multiple arguments to a function\n",
    "\n",
    "The **kwargs  lets the user to assign multiple arguments and the associated key  to a function\n",
    "\"\"\"\n",
    "\n",
    "def abc(*args):\n",
    "    return args\n",
    "def efg(**kargs):\n",
    "    return kargs\n",
    "abc(\"a\",[1,2,3,4],{1,2,3,4,4,4,4,4},(\"a\",\"b\",\"c\"))\n",
    "efg(a=1,b=5)"
   ]
  },
  {
   "cell_type": "code",
   "execution_count": 12,
   "id": "0541c518-2fc0-4c95-b8f8-2564d07f4988",
   "metadata": {},
   "outputs": [
    {
     "name": "stdout",
     "output_type": "stream",
     "text": [
      "2\n",
      "4\n",
      "6\n",
      "8\n",
      "10\n"
     ]
    }
   ],
   "source": [
    "\"\"\"\n",
    "Q3. What is an iterator in python? Name the method used to initialise the iterator object and the method\n",
    "used for iteration. Use these methods to print the first five elements of the given list [2, 4, 6, 8, 10, 12, 14, 16,\n",
    "18, 20].\n",
    "\"\"\"\n",
    "\"\"\"\n",
    "The itertator in pyhon lets the user to obtain the values one by one from list,tuples etc. The advantage of the iterator are\n",
    "space saving since the values in the list are obtained one by one instead of storing the complete values which saves storage\n",
    "\"\"\"\n",
    "list1= [2, 4, 6, 8, 10, 12, 14, 16, 18, 20]\n",
    "k=iter(list1)\n",
    "for i in range(0,5):\n",
    "    print(next(k))\n"
   ]
  },
  {
   "cell_type": "code",
   "execution_count": null,
   "id": "23769b68-c799-4095-9574-354fee6d5c51",
   "metadata": {},
   "outputs": [],
   "source": [
    "\"\"\"\n",
    "Q4. What is a generator function in python? Why yield keyword is used? Give an example of a generator\n",
    "function.\n",
    "\n",
    "Generator function lets the dedveloper to create a iterator however it is treated as generator object. Unlike return keyword, yield will be used in generator functions\n",
    "yield kewords saves the data in local variable and it saves data for all the iterations. \n",
    "\"\"\"\n",
    "\n",
    "def cube(a):\n",
    "    for i in range(a):\n",
    "        i**3\n",
    "        yield i"
   ]
  },
  {
   "cell_type": "code",
   "execution_count": 156,
   "id": "a5569c51-4054-464f-bdb3-a0576a01775a",
   "metadata": {},
   "outputs": [
    {
     "data": {
      "text/plain": [
       "'\\nvalues=pm(1000)\\n\\nfor i in range(0,20):\\n    print(next(values))\\n'"
      ]
     },
     "execution_count": 156,
     "metadata": {},
     "output_type": "execute_result"
    }
   ],
   "source": [
    "\"\"\" Q5. Create a generator function for prime numbers less than 1000. Use the next() method to print the\n",
    "first 20 prime numbers.\n",
    "\n",
    "\"\"\"\n",
    "### creating function to identify prime numbers\n",
    "def pm(n):\n",
    "    for k in range(2,n):\n",
    "        for i in range(2,k):\n",
    "            if k%i==0:\n",
    "                break\n",
    "        else:\n",
    "            yield k\n",
    "## initialixing the function\n",
    "a=pm(1000)\n",
    "\n",
    "## Print first 20 prime numbers\n",
    "i=0\n",
    "while i < 20:\n",
    "    print(next(a))\n",
    "    i+=1\n",
    "            "
   ]
  }
 ],
 "metadata": {
  "kernelspec": {
   "display_name": "Python 3 (ipykernel)",
   "language": "python",
   "name": "python3"
  },
  "language_info": {
   "codemirror_mode": {
    "name": "ipython",
    "version": 3
   },
   "file_extension": ".py",
   "mimetype": "text/x-python",
   "name": "python",
   "nbconvert_exporter": "python",
   "pygments_lexer": "ipython3",
   "version": "3.10.8"
  }
 },
 "nbformat": 4,
 "nbformat_minor": 5
}
